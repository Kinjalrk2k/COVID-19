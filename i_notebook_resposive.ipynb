{
 "cells": [
  {
   "cell_type": "markdown",
   "metadata": {
    "extensions": {
     "jupyter_dashboards": {
      "version": 1,
      "views": {
       "grid_default": {},
       "report_default": {
        "hidden": false
       }
      }
     }
    }
   },
   "source": [
    "# COVID 19 Basic Visualization"
   ]
  },
  {
   "cell_type": "code",
   "execution_count": 1,
   "metadata": {
    "extensions": {
     "jupyter_dashboards": {
      "version": 1,
      "views": {
       "grid_default": {},
       "report_default": {
        "hidden": true
       }
      }
     }
    }
   },
   "outputs": [],
   "source": [
    "import os\n",
    "import pandas as pd\n",
    "from ipywidgets import interact, Layout\n",
    "import ipywidgets as widgets\n",
    "import matplotlib.dates as mdates\n",
    "import plotly.graph_objects as go\n",
    "from plotly.subplots import make_subplots\n",
    "import datetime as dt\n",
    "import calmap"
   ]
  },
  {
   "cell_type": "code",
   "execution_count": 2,
   "metadata": {
    "extensions": {
     "jupyter_dashboards": {
      "version": 1,
      "views": {
       "grid_default": {},
       "report_default": {
        "hidden": true
       }
      }
     }
    }
   },
   "outputs": [],
   "source": [
    "df_confirmed_o = pd.read_csv(r'data/time_series_covid19_confirmed_global.csv')\n",
    "df_confirmed = df_confirmed_o.groupby(['Country/Region'], as_index=False).sum()\n",
    "# df_confirmed.head()"
   ]
  },
  {
   "cell_type": "code",
   "execution_count": 3,
   "metadata": {
    "extensions": {
     "jupyter_dashboards": {
      "version": 1,
      "views": {
       "grid_default": {},
       "report_default": {
        "hidden": true
       }
      }
     }
    }
   },
   "outputs": [],
   "source": [
    "df_deaths_o = pd.read_csv(r'data/time_series_covid19_deaths_global.csv')\n",
    "df_deaths = df_deaths_o.groupby(['Country/Region'], as_index=False).sum()\n",
    "# df_deaths.head()"
   ]
  },
  {
   "cell_type": "code",
   "execution_count": 4,
   "metadata": {
    "extensions": {
     "jupyter_dashboards": {
      "version": 1,
      "views": {
       "grid_default": {},
       "report_default": {
        "hidden": true
       }
      }
     }
    }
   },
   "outputs": [],
   "source": [
    "df_recovered_o = pd.read_csv(r'data/time_series_covid19_recovered_global.csv')\n",
    "df_recovered = df_recovered_o.groupby(['Country/Region'], as_index=False).sum()\n",
    "# df_recovered.head()"
   ]
  },
  {
   "cell_type": "code",
   "execution_count": 13,
   "metadata": {
    "extensions": {
     "jupyter_dashboards": {
      "version": 1,
      "views": {
       "grid_default": {},
       "report_default": {
        "hidden": false
       }
      }
     }
    }
   },
   "outputs": [
    {
     "data": {
      "application/vnd.jupyter.widget-view+json": {
       "model_id": "64083bfed75b40b7a38dc2cd9e8ad019",
       "version_major": 2,
       "version_minor": 0
      },
      "text/plain": [
       "VBox(children=(HBox(children=(Dropdown(description='Country:', index=78, options=('Afghanistan', 'Albania', 'A…"
      ]
     },
     "metadata": {},
     "output_type": "display_data"
    }
   ],
   "source": [
    "def f2(x):\n",
    "    dates = [dt.datetime.strptime(d,'%m/%d/%y').date() for d in list(df_confirmed.columns[3:])]\n",
    "    st_val = dates.index(date_sel2.value[0]) + 3\n",
    "    end_val = dates.index(date_sel2.value[1])\n",
    "    \n",
    "    x = [dt.datetime.strptime(d,'%m/%d/%y').date() for d in list(df_confirmed.columns[st_val:end_val])]    \n",
    "    y1 = df_confirmed[df_confirmed['Country/Region'] == country_sel2.value].iloc[0][st_val:end_val]\n",
    "    y1.index = pd.to_datetime(y1.index)\n",
    "    y2 = df_deaths[df_deaths['Country/Region'] == country_sel2.value].iloc[0][st_val:end_val]\n",
    "    y2.index = pd.to_datetime(y1.index)\n",
    "    y3 = df_recovered[df_recovered['Country/Region'] == country_sel2.value].iloc[0][st_val:end_val]\n",
    "    y3.index = pd.to_datetime(y1.index)\n",
    "    \n",
    "    fig5.data[0].x = y1.index\n",
    "    fig5.data[0].y = y1\n",
    "\n",
    "    fig5.data[1].x = y2.index\n",
    "    fig5.data[1].y = y2\n",
    "\n",
    "    fig5.data[2].x = y3.index\n",
    "    fig5.data[2].y = y3\n",
    "    \n",
    "    if uniform_sel.value:\n",
    "        h = max([y1.max(), y2.max(), y3.max()])\n",
    "        fig5.update_yaxes(range=[0, h])\n",
    "    else:\n",
    "        fig5.update_yaxes(range=[0, y1.max()], row=1, col=1)\n",
    "        fig5.update_yaxes(range=[0, y2.max()], row=1, col=2)\n",
    "        fig5.update_yaxes(range=[0, y3.max()], row=1, col=3)\n",
    "\n",
    "\n",
    "    \n",
    "    \n",
    "country_sel2 = widgets.Dropdown(\n",
    "    options=list(df_confirmed['Country/Region'].unique()),\n",
    "    description='Country:',\n",
    "    value='India',\n",
    "    disabled=False,\n",
    ")\n",
    "\n",
    "dates = [dt.datetime.strptime(d,'%m/%d/%y').date() for d in list(df_confirmed.columns[3:])]\n",
    "dates_i = range(len(dates))\n",
    "options = [(i.strftime(' %d %b %y '), i) for i in dates]\n",
    "date_sel2 = widgets.SelectionRangeSlider(\n",
    "    options=options,\n",
    "    index=(0, len(dates)-1),\n",
    "    description='Months',\n",
    "    disabled=False,\n",
    "    continuous_update=False,\n",
    "    layout=Layout(width='70%', height='80px')\n",
    ")\n",
    "\n",
    "uniform_sel = widgets.Checkbox(\n",
    "    value=True,\n",
    "    description='Scale uniformly',\n",
    "    disabled=False\n",
    ")\n",
    "    \n",
    "country_sel2.observe(f2, names='value')\n",
    "date_sel2.observe(f2, names='value')\n",
    "uniform_sel.observe(f2, names='value')\n",
    "\n",
    "\n",
    "x = [dt.datetime.strptime(d,'%m/%d/%y').date() for d in list(df_confirmed.columns[3:])]\n",
    "    \n",
    "y1 = df_confirmed[df_confirmed['Country/Region'] == 'India'].iloc[0][3:]\n",
    "y1.index = pd.to_datetime(y1.index)\n",
    "y2 = df_deaths[df_deaths['Country/Region'] == 'India'].iloc[0][3:]\n",
    "y2.index = pd.to_datetime(y2.index)\n",
    "y3 = df_recovered[df_recovered['Country/Region'] == 'India'].iloc[0][3:]\n",
    "y3.index = pd.to_datetime(y3.index)\n",
    "\n",
    "fig5 = make_subplots(rows=1, cols=3, subplot_titles=(\"Confirmed\", \"Deaths\", \"Recovered\"))\n",
    "\n",
    "fig5.add_trace(\n",
    "    go.Scatter(\n",
    "        x=y1.index, y=y1,\n",
    "        line=dict(color='blue', width=2),\n",
    "        name=\"Confirmed\"\n",
    "    ),\n",
    "    row=1, col=1\n",
    ")\n",
    "\n",
    "fig5.add_trace(\n",
    "    go.Scatter(\n",
    "        x=y2.index, y=y2,\n",
    "        line=dict(color='red', width=2),\n",
    "        name=\"Deaths\"\n",
    "    ),\n",
    "    row=1, col=2\n",
    ")\n",
    "\n",
    "fig5.add_trace(\n",
    "    go.Scatter(\n",
    "        x=y3.index, y=y3,\n",
    "        line=dict(color='green', width=2),\n",
    "        name=\"Recovered\"\n",
    "    ),\n",
    "    row=1, col=3\n",
    ")\n",
    "\n",
    "fig5 = go.FigureWidget(fig5)\n",
    "fig5.update_layout(title_text=\"Cumulative Data on seperate graphs\", showlegend=False)\n",
    "\n",
    "for i in range(3):\n",
    "    fig5.update_xaxes(title_text=\"Time\", row=1, col=i+1)\n",
    "\n",
    "fig5.update_yaxes(title_text=\"Cases\", row=1, col=1)\n",
    "# fig5.update_yaxes(rangemode=\"nonnegative\")\n",
    "h = max([y1.max(), y2.max(), y3.max()])\n",
    "fig5.update_yaxes(range=[0, h])\n",
    "\n",
    "container4 = widgets.HBox([country_sel2, uniform_sel])\n",
    "cum_sep = widgets.VBox([container4,\n",
    "              date_sel2,\n",
    "              fig5])\n",
    "cum_sep"
   ]
  },
  {
   "cell_type": "code",
   "execution_count": 15,
   "metadata": {
    "extensions": {
     "jupyter_dashboards": {
      "version": 1,
      "views": {
       "grid_default": {},
       "report_default": {
        "hidden": false
       }
      }
     }
    }
   },
   "outputs": [
    {
     "data": {
      "application/vnd.jupyter.widget-view+json": {
       "model_id": "580b0a21b88b48a4952f62dbe1350743",
       "version_major": 2,
       "version_minor": 0
      },
      "text/plain": [
       "VBox(children=(HBox(children=(Dropdown(description='Country:', index=78, options=('Afghanistan', 'Albania', 'A…"
      ]
     },
     "metadata": {},
     "output_type": "display_data"
    }
   ],
   "source": [
    "def f(x):\n",
    "    dates = [dt.datetime.strptime(d,'%m/%d/%y').date() for d in list(df_confirmed.columns[3:])]\n",
    "    st_val = dates.index(date_sel.value[0]) + 3\n",
    "    end_val = dates.index(date_sel.value[1])\n",
    "    \n",
    "    x = [dt.datetime.strptime(d,'%m/%d/%y').date() for d in list(df_confirmed.columns[st_val:end_val])]    \n",
    "    y1 = df_confirmed[df_confirmed['Country/Region'] == country_sel.value].iloc[0][st_val:end_val]\n",
    "    y1.index = pd.to_datetime(y1.index)\n",
    "    y2 = df_deaths[df_deaths['Country/Region'] == country_sel.value].iloc[0][st_val:end_val]\n",
    "    y2.index = pd.to_datetime(y1.index)\n",
    "    y3 = df_recovered[df_recovered['Country/Region'] == country_sel.value].iloc[0][st_val:end_val]\n",
    "    y3.index = pd.to_datetime(y1.index)\n",
    "\n",
    "    if confirmed_sel.value:\n",
    "        fig4.data[0].x = y1.index\n",
    "        fig4.data[0].y = y1\n",
    "    else:\n",
    "        fig4.data[0].x = None\n",
    "        fig4.data[0].y = None\n",
    "        \n",
    "    if death_sel.value:\n",
    "        fig4.data[1].x = y2.index\n",
    "        fig4.data[1].y = y2\n",
    "    else:\n",
    "        fig4.data[1].x = None\n",
    "        fig4.data[1].y = None\n",
    "        \n",
    "    if recover_sel.value:\n",
    "        fig4.data[2].x = y3.index\n",
    "        fig4.data[2].y = y3\n",
    "    else:\n",
    "        fig4.data[2].x = None\n",
    "        fig4.data[2].y = None\n",
    "\n",
    "    \n",
    "    \n",
    "country_sel = widgets.Dropdown(\n",
    "    options=list(df_confirmed['Country/Region'].unique()),\n",
    "    description='Country:',\n",
    "    value='India',\n",
    "    disabled=False,\n",
    ")\n",
    "\n",
    "confirmed_sel = widgets.Checkbox(\n",
    "    value=True,\n",
    "    description='Confirmed',\n",
    "    disabled=False\n",
    ")\n",
    "\n",
    "death_sel = widgets.Checkbox(\n",
    "    value=True,\n",
    "    description='Death',\n",
    "    disabled=False\n",
    ")\n",
    "\n",
    "recover_sel = widgets.Checkbox(\n",
    "    value=True,\n",
    "    description='Recovered',\n",
    "    disabled=False\n",
    ")\n",
    "\n",
    "dates = [dt.datetime.strptime(d,'%m/%d/%y').date() for d in list(df_confirmed.columns[3:])]\n",
    "dates_i = range(len(dates))\n",
    "options = [(i.strftime(' %d %b %y '), i) for i in dates]\n",
    "date_sel = widgets.SelectionRangeSlider(\n",
    "    options=options,\n",
    "    index=(0, len(dates)-1),\n",
    "    description='Months',\n",
    "    disabled=False,\n",
    "    continuous_update=False,\n",
    "    layout=Layout(width='70%', height='80px')\n",
    ")\n",
    "    \n",
    "country_sel.observe(f, names='value')\n",
    "confirmed_sel.observe(f, names='value')\n",
    "death_sel.observe(f, names='value')\n",
    "recover_sel.observe(f, names='value')\n",
    "date_sel.observe(f, names='value')\n",
    "\n",
    "\n",
    "x = [dt.datetime.strptime(d,'%m/%d/%y').date() for d in list(df_confirmed.columns[3:])]\n",
    "    \n",
    "y1 = df_confirmed[df_confirmed['Country/Region'] == 'India'].iloc[0][3:]\n",
    "y1.index = pd.to_datetime(y1.index)\n",
    "y2 = df_deaths[df_deaths['Country/Region'] == 'India'].iloc[0][3:]\n",
    "y2.index = pd.to_datetime(y2.index)\n",
    "y3 = df_recovered[df_recovered['Country/Region'] == 'India'].iloc[0][3:]\n",
    "y3.index = pd.to_datetime(y3.index)\n",
    "\n",
    "fig4 = go.FigureWidget(data=[\n",
    "    go.Scatter(\n",
    "        x=y1.index, y=y1,\n",
    "        line=dict(color='blue', width=2),\n",
    "        name=\"Confirmed\"\n",
    "    ),\n",
    "    go.Scatter(\n",
    "        x=y2.index, y=y2,\n",
    "        line=dict(color='red', width=2),\n",
    "        name=\"Deaths\"\n",
    "    ),\n",
    "    go.Scatter(\n",
    "        x=y3.index, y=y3,\n",
    "        line=dict(color='green', width=2),\n",
    "        name=\"Recovered\"\n",
    "    )\n",
    "])\n",
    "fig4.update_layout(\n",
    "    title='Cumulative data on single graph',\n",
    "    yaxis_title=\"Cases\",\n",
    "    xaxis_title=\"Time\",\n",
    ")\n",
    "fig4.update_yaxes(rangemode=\"nonnegative\")\n",
    "\n",
    "\n",
    "container2 = widgets.HBox([country_sel, confirmed_sel, death_sel, recover_sel])\n",
    "cum_sin = widgets.VBox([container2,\n",
    "              date_sel,\n",
    "              fig4])\n",
    "cum_sin"
   ]
  },
  {
   "cell_type": "code",
   "execution_count": 7,
   "metadata": {
    "extensions": {
     "jupyter_dashboards": {
      "version": 1,
      "views": {
       "grid_default": {},
       "report_default": {
        "hidden": true
       }
      }
     }
    }
   },
   "outputs": [],
   "source": [
    "df_confirmed_n = df_confirmed.copy()\n",
    "\n",
    "for i in range(len(df_confirmed_n)):\n",
    "    for j in range(4, len(df_confirmed_n.loc[0])):\n",
    "        df_confirmed_n.iat[i, j] = df_confirmed_n.iat[i, j] - df_confirmed.iat[i, j-1]\n",
    "    \n",
    "# df_confirmed_n.head()"
   ]
  },
  {
   "cell_type": "code",
   "execution_count": 9,
   "metadata": {
    "extensions": {
     "jupyter_dashboards": {
      "version": 1,
      "views": {
       "grid_default": {},
       "report_default": {
        "hidden": true
       }
      }
     }
    }
   },
   "outputs": [],
   "source": [
    "df_deaths_n = df_deaths.copy()\n",
    "\n",
    "for i in range(len(df_confirmed_n)):\n",
    "    for j in range(4, len(df_confirmed_n.loc[0])):\n",
    "        df_deaths_n.iat[i, j] = df_deaths_n.iat[i, j] - df_deaths_n.iat[i, j-1]\n",
    "    \n",
    "# df_deaths_n.head()"
   ]
  },
  {
   "cell_type": "code",
   "execution_count": 10,
   "metadata": {
    "extensions": {
     "jupyter_dashboards": {
      "version": 1,
      "views": {
       "grid_default": {},
       "report_default": {
        "hidden": true
       }
      }
     }
    }
   },
   "outputs": [],
   "source": [
    "df_recovered_n = df_recovered.copy()\n",
    "\n",
    "for i in range(len(df_confirmed_n)):\n",
    "    for j in range(4, len(df_confirmed_n.loc[0])):\n",
    "        df_recovered_n.iat[i, j] = df_recovered_n.iat[i, j] - df_recovered_n.iat[i, j-1]\n",
    "    \n",
    "# df_recovered_n.head()"
   ]
  },
  {
   "cell_type": "code",
   "execution_count": 16,
   "metadata": {
    "extensions": {
     "jupyter_dashboards": {
      "version": 1,
      "views": {
       "grid_default": {},
       "report_default": {
        "hidden": false
       }
      }
     }
    }
   },
   "outputs": [
    {
     "data": {
      "application/vnd.jupyter.widget-view+json": {
       "model_id": "b13ba14e3d1d426f91f3d8be9f104439",
       "version_major": 2,
       "version_minor": 0
      },
      "text/plain": [
       "VBox(children=(HBox(children=(Dropdown(description='Country:', index=78, options=('Afghanistan', 'Albania', 'A…"
      ]
     },
     "metadata": {},
     "output_type": "display_data"
    }
   ],
   "source": [
    "def f3(x):\n",
    "    dates = [dt.datetime.strptime(d,'%m/%d/%y').date() for d in list(df_confirmed_n.columns[3:])]\n",
    "    st_val = dates.index(date_sel3.value[0]) + 3\n",
    "    end_val = dates.index(date_sel3.value[1])\n",
    "    \n",
    "    x = [dt.datetime.strptime(d,'%m/%d/%y').date() for d in list(df_confirmed.columns[st_val:end_val])]    \n",
    "    y1 = df_confirmed_n[df_confirmed_n['Country/Region'] == country_sel3.value].iloc[0][st_val:end_val]\n",
    "    y1.index = pd.to_datetime(y1.index)\n",
    "    y2 = df_deaths_n[df_deaths_n['Country/Region'] == country_sel3.value].iloc[0][st_val:end_val]\n",
    "    y2.index = pd.to_datetime(y1.index)\n",
    "    y3 = df_recovered_n[df_recovered_n['Country/Region'] == country_sel3.value].iloc[0][st_val:end_val]\n",
    "    y3.index = pd.to_datetime(y1.index)\n",
    "    \n",
    "    fig6.data[0].x = y1.index\n",
    "    fig6.data[0].y = y1\n",
    "\n",
    "    fig6.data[1].x = y2.index\n",
    "    fig6.data[1].y = y2\n",
    "\n",
    "    fig6.data[2].x = y3.index\n",
    "    fig6.data[2].y = y3\n",
    "\n",
    "    \n",
    "    \n",
    "country_sel3 = widgets.Dropdown(\n",
    "    options=list(df_confirmed['Country/Region'].unique()),\n",
    "    description='Country:',\n",
    "    value='India',\n",
    "    disabled=False,\n",
    ")\n",
    "\n",
    "dates = [dt.datetime.strptime(d,'%m/%d/%y').date() for d in list(df_confirmed.columns[3:])]\n",
    "dates_i = range(len(dates))\n",
    "options = [(i.strftime(' %d %b %y '), i) for i in dates]\n",
    "date_sel3 = widgets.SelectionRangeSlider(\n",
    "    options=options,\n",
    "    index=(0, len(dates)-1),\n",
    "    description='Months',\n",
    "    disabled=False,\n",
    "    continuous_update=False,\n",
    "    layout=Layout(width='70%', height='80px')\n",
    ")\n",
    "    \n",
    "country_sel3.observe(f3, names='value')\n",
    "date_sel3.observe(f3, names='value')\n",
    "\n",
    "\n",
    "x = [dt.datetime.strptime(d,'%m/%d/%y').date() for d in list(df_confirmed.columns[3:])]\n",
    "    \n",
    "y1 = df_confirmed_n[df_confirmed['Country/Region'] == 'India'].iloc[0][3:]\n",
    "y1.index = pd.to_datetime(y1.index)\n",
    "y2 = df_deaths_n[df_deaths['Country/Region'] == 'India'].iloc[0][3:]\n",
    "y2.index = pd.to_datetime(y2.index)\n",
    "y3 = df_recovered_n[df_recovered['Country/Region'] == 'India'].iloc[0][3:]\n",
    "y3.index = pd.to_datetime(y3.index)\n",
    "\n",
    "fig6 = make_subplots(rows=1, cols=3, subplot_titles=(\"Confirmed\", \"Deaths\", \"Recovered\"))\n",
    "\n",
    "fig6.add_trace(\n",
    "    go.Scatter(\n",
    "        x=y1.index, y=y1,\n",
    "        line=dict(color='blue', width=2),\n",
    "        name=\"Confirmed\"\n",
    "    ),\n",
    "    row=1, col=1\n",
    ")\n",
    "\n",
    "fig6.add_trace(\n",
    "    go.Scatter(\n",
    "        x=y2.index, y=y2,\n",
    "        line=dict(color='red', width=2),\n",
    "        name=\"Deaths\"\n",
    "    ),\n",
    "    row=1, col=2\n",
    ")\n",
    "\n",
    "fig6.add_trace(\n",
    "    go.Scatter(\n",
    "        x=y3.index, y=y3,\n",
    "        line=dict(color='green', width=2),\n",
    "        name=\"Recovered\"\n",
    "    ),\n",
    "    row=1, col=3\n",
    ")\n",
    "\n",
    "fig6 = go.FigureWidget(fig6)\n",
    "fig6.update_layout(title_text=\"Daily data on seperate graphs\", showlegend=False)\n",
    "\n",
    "for i in range(3):\n",
    "    fig6.update_xaxes(title_text=\"Time\", row=1, col=i+1)\n",
    "\n",
    "fig6.update_yaxes(title_text=\"Cases\", row=1, col=1)\n",
    "fig6.update_yaxes(rangemode=\"nonnegative\")\n",
    "\n",
    "\n",
    "container5 = widgets.HBox([country_sel3])\n",
    "dai_sep = widgets.VBox([container5,\n",
    "              date_sel3,\n",
    "              fig6])\n",
    "dai_sep"
   ]
  },
  {
   "cell_type": "code",
   "execution_count": 25,
   "metadata": {
    "extensions": {
     "jupyter_dashboards": {
      "version": 1,
      "views": {
       "grid_default": {},
       "report_default": {
        "hidden": true
       }
      }
     }
    }
   },
   "outputs": [
    {
     "data": {
      "application/vnd.jupyter.widget-view+json": {
       "model_id": "bdaae0c1cb5b4bfe9cc36b4c1b64d09f",
       "version_major": 2,
       "version_minor": 0
      },
      "text/plain": [
       "Tabs(children=[Tab(children=['Cumulative Data']), Tab(children=['Daily Data']), TabItem(children=[Layout(align…"
      ]
     },
     "metadata": {},
     "output_type": "display_data"
    }
   ],
   "source": [
    "import ipyvuetify as v\n",
    "\n",
    "v.Tabs(_metadata={'mount_id': 'content-main'}, children=[\n",
    "    v.Tab(children=['Cumulative Data']),\n",
    "    v.Tab(children=['Daily Data']),\n",
    "    v.TabItem(children=[\n",
    "        v.Layout(row=True, wrap=True, align_center=True, children=[\n",
    "            v.Flex(xs12=True, m12=True, lg12=True, xl2=True, children=[\n",
    "                cum_sep\n",
    "            ])\n",
    "        ]),\n",
    "        v.Layout(row=True, wrap=True, align_center=True, children=[\n",
    "            v.Flex(xs12=True, m12=True, lg12=True, xl2=True, children=[\n",
    "                cum_sin\n",
    "            ])\n",
    "        ])\n",
    "    ]),\n",
    "    v.TabItem(children=[\n",
    "        v.Layout(row=True, wrap=True, align_center=True, children=[\n",
    "            v.Flex(xs12=True, m12=True, lg12=True, xl2=True, children=[\n",
    "                dai_sep\n",
    "            ])\n",
    "        ])\n",
    "    ])\n",
    "])"
   ]
  },
  {
   "cell_type": "code",
   "execution_count": null,
   "metadata": {
    "extensions": {
     "jupyter_dashboards": {
      "version": 1,
      "views": {
       "grid_default": {},
       "report_default": {}
      }
     }
    }
   },
   "outputs": [],
   "source": []
  }
 ],
 "metadata": {
  "extensions": {
   "jupyter_dashboards": {
    "activeView": "grid_default",
    "version": 1,
    "views": {
     "grid_default": {
      "cellMargin": 10,
      "defaultCellHeight": 20,
      "maxColumns": 12,
      "name": "grid",
      "type": "grid"
     },
     "report_default": {
      "name": "report",
      "type": "report"
     }
    }
   }
  },
  "kernelspec": {
   "display_name": "Python 3",
   "language": "python",
   "name": "python3"
  },
  "language_info": {
   "codemirror_mode": {
    "name": "ipython",
    "version": 3
   },
   "file_extension": ".py",
   "mimetype": "text/x-python",
   "name": "python",
   "nbconvert_exporter": "python",
   "pygments_lexer": "ipython3",
   "version": "3.7.4"
  }
 },
 "nbformat": 4,
 "nbformat_minor": 2
}
