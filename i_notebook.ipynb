{
 "cells": [
  {
   "cell_type": "markdown",
   "metadata": {},
   "source": [
    "# COVID 19 Basic Visualization"
   ]
  },
  {
   "cell_type": "code",
   "execution_count": 1,
   "metadata": {},
   "outputs": [],
   "source": [
    "import os\n",
    "import pandas as pd\n",
    "import matplotlib.pyplot as plt\n",
    "# from bqplot import pyplot as plt\n",
    "from IPython.display import clear_output\n",
    "\n",
    "from ipywidgets import interact, Layout\n",
    "import ipywidgets as widgets\n",
    "import matplotlib.dates as mdates\n",
    "import datetime as dt\n",
    "\n",
    "import calmap"
   ]
  },
  {
   "cell_type": "code",
   "execution_count": 2,
   "metadata": {},
   "outputs": [],
   "source": [
    "df_confirmed = pd.read_csv(r'data/time_series_covid19_confirmed_global.csv')\n",
    "df_confirmed = df_confirmed.groupby(['Country/Region'], as_index=False).sum()\n",
    "# df_confirmed.head()"
   ]
  },
  {
   "cell_type": "code",
   "execution_count": 3,
   "metadata": {},
   "outputs": [],
   "source": [
    "df_deaths = pd.read_csv(r'data/time_series_covid19_deaths_global.csv')\n",
    "df_deaths = df_deaths.groupby(['Country/Region'], as_index=False).sum()\n",
    "# df_deaths.head()"
   ]
  },
  {
   "cell_type": "code",
   "execution_count": 4,
   "metadata": {},
   "outputs": [],
   "source": [
    "df_recovered = pd.read_csv(r'data/time_series_covid19_recovered_global.csv')\n",
    "df_recovered = df_recovered.groupby(['Country/Region'], as_index=False).sum()\n",
    "# df_recovered.head()"
   ]
  },
  {
   "cell_type": "code",
   "execution_count": 59,
   "metadata": {},
   "outputs": [],
   "source": [
    "import plotly.graph_objects as go\n",
    "\n",
    "def f(x):\n",
    "#     print(date_sel.value)\n",
    "    dates = [dt.datetime.strptime(d,'%m/%d/%y').date() for d in list(df_confirmed.columns[3:])]\n",
    "#     print(dates.index(date_sel.value[0]), dates.index(date_sel.value[1]))\n",
    "    st_val = dates.index(date_sel.value[0]) + 3\n",
    "    end_val = dates.index(date_sel.value[1])\n",
    "    \n",
    "    x = [dt.datetime.strptime(d,'%m/%d/%y').date() for d in list(df_confirmed.columns[st_val:end_val])]    \n",
    "    y1 = df_confirmed[df_confirmed['Country/Region'] == country_sel.value].iloc[0][st_val:end_val]\n",
    "    y1.index = pd.to_datetime(y1.index)\n",
    "    y2 = df_deaths[df_deaths['Country/Region'] == country_sel.value].iloc[0][st_val:end_val]\n",
    "    y2.index = pd.to_datetime(y1.index)\n",
    "    y3 = df_recovered[df_recovered['Country/Region'] == country_sel.value].iloc[0][st_val:end_val]\n",
    "    y3.index = pd.to_datetime(y1.index)\n",
    "#     with fig1.batch_update():\n",
    "\n",
    "    if confirmed_sel.value:\n",
    "        fig1.data[0].x = y1.index\n",
    "        fig1.data[0].y = y1\n",
    "    else:\n",
    "        fig1.data[0].x = None\n",
    "        fig1.data[0].y = None\n",
    "        \n",
    "    if death_sel.value:\n",
    "        fig1.data[1].x = y2.index\n",
    "        fig1.data[1].y = y2\n",
    "    else:\n",
    "        fig1.data[1].x = None\n",
    "        fig1.data[1].y = None\n",
    "        \n",
    "    if recover_sel.value:\n",
    "        fig1.data[2].x = y3.index\n",
    "        fig1.data[2].y = y3\n",
    "    else:\n",
    "        fig1.data[2].x = None\n",
    "        fig1.data[2].y = None\n",
    "\n",
    "    \n",
    "    \n",
    "country_sel = widgets.Dropdown(\n",
    "    options=list(df_confirmed['Country/Region'].unique()),\n",
    "    description='Country:',\n",
    "    value='India',\n",
    "    disabled=False,\n",
    ")\n",
    "\n",
    "confirmed_sel = widgets.Checkbox(\n",
    "    value=True,\n",
    "    description='Confirmed',\n",
    "    disabled=False\n",
    ")\n",
    "\n",
    "death_sel = widgets.Checkbox(\n",
    "    value=True,\n",
    "    description='Death',\n",
    "    disabled=False\n",
    ")\n",
    "\n",
    "recover_sel = widgets.Checkbox(\n",
    "    value=True,\n",
    "    description='Recovered',\n",
    "    disabled=False\n",
    ")\n",
    "\n",
    "dates = [dt.datetime.strptime(d,'%m/%d/%y').date() for d in list(df_confirmed.columns[3:])]\n",
    "dates_i = range(len(dates))\n",
    "options = [(i.strftime(' %d %b %y '), i) for i in dates]\n",
    "date_sel = widgets.SelectionRangeSlider(\n",
    "    options=options,\n",
    "    index=(0, len(dates)-1),\n",
    "    description='Months',\n",
    "    disabled=False,\n",
    "    continuous_update=False,\n",
    "    layout=Layout(width='70%', height='80px')\n",
    ")\n",
    "    \n",
    "country_sel.observe(f, names='value')\n",
    "confirmed_sel.observe(f, names='value')\n",
    "death_sel.observe(f, names='value')\n",
    "recover_sel.observe(f, names='value')\n",
    "date_sel.observe(f, names='value')\n",
    "\n",
    "\n",
    "x = [dt.datetime.strptime(d,'%m/%d/%y').date() for d in list(df_confirmed.columns[3:])]\n",
    "    \n",
    "y1 = df_confirmed[df_confirmed['Country/Region'] == 'India'].iloc[0][3:]\n",
    "y1.index = pd.to_datetime(y1.index)\n",
    "y2 = df_deaths[df_deaths['Country/Region'] == 'India'].iloc[0][3:]\n",
    "y2.index = pd.to_datetime(y2.index)\n",
    "y3 = df_recovered[df_recovered['Country/Region'] == 'India'].iloc[0][3:]\n",
    "y3.index = pd.to_datetime(y3.index)\n",
    "\n",
    "fig1 = go.FigureWidget(data=[\n",
    "    go.Scatter(\n",
    "        x=y1.index, y=y1,\n",
    "        line=dict(color='blue', width=2),\n",
    "        name=\"Confirmed\"\n",
    "    ),\n",
    "    go.Scatter(\n",
    "        x=y2.index, y=y2,\n",
    "        line=dict(color='red', width=2),\n",
    "        name=\"Deaths\"\n",
    "    ),\n",
    "    go.Scatter(\n",
    "        x=y3.index, y=y3,\n",
    "        line=dict(color='green', width=2),\n",
    "        name=\"Recovered\"\n",
    "    )\n",
    "])\n",
    "fig1.update_layout(\n",
    "    title='Cumulative data',\n",
    "    yaxis_title=\"Cases\",\n",
    "    xaxis_title=\"Time\",\n",
    "#     paper_bgcolor='rgba(0,0,0,0)',\n",
    "#     plot_bgcolor='rgba(0,0,0,0)'\n",
    ")\n",
    "\n",
    "\n",
    "sel = container2 = widgets.HBox([country_sel, confirmed_sel, death_sel, recover_sel])\n",
    "wid_all = widgets.VBox([sel,\n",
    "              date_sel,\n",
    "              fig1])\n",
    "# display(wid_all)"
   ]
  },
  {
   "cell_type": "code",
   "execution_count": 61,
   "metadata": {},
   "outputs": [
    {
     "data": {
      "application/vnd.jupyter.widget-view+json": {
       "model_id": "87aa33e949b1434aa093d2ef46767373",
       "version_major": 2,
       "version_minor": 0
      },
      "text/plain": [
       "Tabs(children=[Tab(children=['Cumulative data']), TabItem(children=[Layout(align_center=True, children=[Flex(c…"
      ]
     },
     "metadata": {},
     "output_type": "display_data"
    }
   ],
   "source": [
    "import ipyvuetify as v\n",
    "v.theme.dark = True\n",
    "\n",
    "v.Tabs(_metadata={'mount_id': 'content-main'}, children=[\n",
    "    v.Tab(children=['Cumulative data']),\n",
    "    v.TabItem(children=[\n",
    "        v.Layout(row=True, wrap=True, align_center=True, children=[\n",
    "            v.Flex(xs12=True, lg12=True, sm12=True, md12=True, x12=True, children=[\n",
    "                country_sel, confirmed_sel, death_sel, recover_sel, date_sel\n",
    "            ])\n",
    "        ]),\n",
    "        v.Layout(col=True, wrap=True, align_center=True, children=[\n",
    "            v.Flex(xs12=True, lg12=True, sm12=True, md12=True, x12=True, children=[\n",
    "                fig1\n",
    "            ])\n",
    "        ])\n",
    "    ]),\n",
    "])"
   ]
  },
  {
   "cell_type": "code",
   "execution_count": null,
   "metadata": {},
   "outputs": [],
   "source": []
  }
 ],
 "metadata": {
  "kernelspec": {
   "display_name": "Python 3",
   "language": "python",
   "name": "python3"
  },
  "language_info": {
   "codemirror_mode": {
    "name": "ipython",
    "version": 3
   },
   "file_extension": ".py",
   "mimetype": "text/x-python",
   "name": "python",
   "nbconvert_exporter": "python",
   "pygments_lexer": "ipython3",
   "version": "3.7.4"
  }
 },
 "nbformat": 4,
 "nbformat_minor": 2
}
