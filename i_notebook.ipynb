{
 "cells": [
  {
   "cell_type": "markdown",
   "metadata": {
    "extensions": {
     "jupyter_dashboards": {
      "version": 1,
      "views": {
       "grid_default": {},
       "report_default": {
        "hidden": false
       }
      }
     }
    }
   },
   "source": [
    "# COVID 19 Basic Visualization"
   ]
  },
  {
   "cell_type": "code",
   "execution_count": 1,
   "metadata": {
    "extensions": {
     "jupyter_dashboards": {
      "version": 1,
      "views": {
       "grid_default": {},
       "report_default": {
        "hidden": true
       }
      }
     }
    }
   },
   "outputs": [],
   "source": [
    "import os\n",
    "import pandas as pd\n",
    "from ipywidgets import interact, Layout\n",
    "import ipywidgets as widgets\n",
    "import matplotlib.dates as mdates\n",
    "import plotly.graph_objects as go\n",
    "from plotly.subplots import make_subplots\n",
    "import datetime as dt\n",
    "import calmap"
   ]
  },
  {
   "cell_type": "code",
   "execution_count": 2,
   "metadata": {
    "extensions": {
     "jupyter_dashboards": {
      "version": 1,
      "views": {
       "grid_default": {},
       "report_default": {
        "hidden": true
       }
      }
     }
    }
   },
   "outputs": [],
   "source": [
    "# df_confirmed_o = pd.read_csv(r'data/time_series_covid19_confirmed_global.csv')\n",
    "df_confirmed_o = pd.read_csv('https://coviddata.github.io/coviddata/v1/countries/cases.csv')\n",
    "df_confirmed = df_confirmed_o.groupby(['Country'], as_index=False).sum()\n",
    "# df_confirmed.head()"
   ]
  },
  {
   "cell_type": "code",
   "execution_count": 3,
   "metadata": {
    "extensions": {
     "jupyter_dashboards": {
      "version": 1,
      "views": {
       "grid_default": {},
       "report_default": {
        "hidden": true
       }
      }
     }
    }
   },
   "outputs": [],
   "source": [
    "df_deaths_o = pd.read_csv('https://coviddata.github.io/coviddata/v1/countries/deaths.csv')\n",
    "df_deaths = df_deaths_o.groupby(['Country'], as_index=False).sum()\n",
    "# df_deaths.head()"
   ]
  },
  {
   "cell_type": "code",
   "execution_count": 4,
   "metadata": {
    "extensions": {
     "jupyter_dashboards": {
      "version": 1,
      "views": {
       "grid_default": {},
       "report_default": {
        "hidden": true
       }
      }
     }
    }
   },
   "outputs": [],
   "source": [
    "df_recovered_o = pd.read_csv('https://coviddata.github.io/coviddata/v1/countries/recoveries.csv')\n",
    "df_recovered = df_recovered_o.groupby(['Country'], as_index=False).sum()\n",
    "# df_recovered.head()"
   ]
  },
  {
   "cell_type": "code",
   "execution_count": 5,
   "metadata": {
    "extensions": {
     "jupyter_dashboards": {
      "version": 1,
      "views": {
       "grid_default": {},
       "report_default": {
        "hidden": false
       }
      }
     }
    }
   },
   "outputs": [
    {
     "data": {
      "application/vnd.jupyter.widget-view+json": {
       "model_id": "e712a0b5bdcb4ae9aecd2bea026906af",
       "version_major": 2,
       "version_minor": 0
      },
      "text/plain": [
       "VBox(children=(HBox(children=(Dropdown(description='Country:', index=91, options=('Afghanistan', 'Albania', 'A…"
      ]
     },
     "metadata": {},
     "output_type": "display_data"
    }
   ],
   "source": [
    "def f2(x):\n",
    "    dates = [dt.datetime.strptime(d,'%Y-%m-%d').date() for d in list(df_confirmed.columns[1:])]\n",
    "    st_val = dates.index(date_sel2.value[0]) + 1\n",
    "    end_val = dates.index(date_sel2.value[1]) + 2\n",
    "    \n",
    "    x = [dt.datetime.strptime(d,'%Y-%m-%d').date() for d in list(df_confirmed.columns[st_val:end_val])]    \n",
    "    y1 = df_confirmed[df_confirmed['Country'] == country_sel2.value].iloc[0][st_val:end_val]\n",
    "    y1.index = pd.to_datetime(y1.index)\n",
    "    y2 = df_deaths[df_deaths['Country'] == country_sel2.value].iloc[0][st_val:end_val]\n",
    "    y2.index = pd.to_datetime(y1.index)\n",
    "    y3 = df_recovered[df_recovered['Country'] == country_sel2.value].iloc[0][st_val:end_val]\n",
    "    y3.index = pd.to_datetime(y1.index)\n",
    "    \n",
    "    fig5.data[0].x = y1.index\n",
    "    fig5.data[0].y = y1\n",
    "\n",
    "    fig5.data[1].x = y2.index\n",
    "    fig5.data[1].y = y2\n",
    "\n",
    "    fig5.data[2].x = y3.index\n",
    "    fig5.data[2].y = y3\n",
    "    \n",
    "    if uniform_sel.value:\n",
    "        h = max([y1.max(), y2.max(), y3.max()])\n",
    "        fig5.update_yaxes(range=[0, h])\n",
    "    else:\n",
    "        fig5.update_yaxes(range=[0, y1.max()], row=1, col=1)\n",
    "        fig5.update_yaxes(range=[0, y2.max()], row=1, col=2)\n",
    "        fig5.update_yaxes(range=[0, y3.max()], row=1, col=3)\n",
    "\n",
    "\n",
    "    \n",
    "    \n",
    "country_sel2 = widgets.Dropdown(\n",
    "    options=list(df_confirmed['Country'].unique()),\n",
    "    description='Country:',\n",
    "    value='India',\n",
    "    disabled=False,\n",
    ")\n",
    "\n",
    "dates = [dt.datetime.strptime(d,'%Y-%m-%d').date() for d in list(df_confirmed.columns[1:])]\n",
    "dates_i = range(len(dates))\n",
    "options = [(i.strftime(' %d %b %y '), i) for i in dates]\n",
    "date_sel2 = widgets.SelectionRangeSlider(\n",
    "    options=options,\n",
    "    index=(0, len(dates)-1),\n",
    "    description='Months',\n",
    "    disabled=False,\n",
    "    continuous_update=False,\n",
    "    layout=Layout(width='70%', height='80px')\n",
    ")\n",
    "\n",
    "uniform_sel = widgets.Checkbox(\n",
    "    value=True,\n",
    "    description='Scale uniformly',\n",
    "    disabled=False\n",
    ")\n",
    "    \n",
    "country_sel2.observe(f2, names='value')\n",
    "date_sel2.observe(f2, names='value')\n",
    "uniform_sel.observe(f2, names='value')\n",
    "\n",
    "\n",
    "x = [dt.datetime.strptime(d,'%Y-%m-%d').date() for d in list(df_confirmed.columns[1:])]\n",
    "    \n",
    "y1 = df_confirmed[df_confirmed['Country'] == 'India'].iloc[0][1:]\n",
    "y1.index = pd.to_datetime(y1.index)\n",
    "y2 = df_deaths[df_deaths['Country'] == 'India'].iloc[0][1:]\n",
    "y2.index = pd.to_datetime(y2.index)\n",
    "y3 = df_recovered[df_recovered['Country'] == 'India'].iloc[0][1:]\n",
    "y3.index = pd.to_datetime(y3.index)\n",
    "\n",
    "fig5 = make_subplots(rows=1, cols=3, subplot_titles=(\"Confirmed\", \"Deaths\", \"Recovered\"))\n",
    "\n",
    "fig5.add_trace(\n",
    "    go.Scatter(\n",
    "        x=y1.index, y=y1,\n",
    "        line=dict(color='blue', width=2),\n",
    "        name=\"Confirmed\"\n",
    "    ),\n",
    "    row=1, col=1\n",
    ")\n",
    "\n",
    "fig5.add_trace(\n",
    "    go.Scatter(\n",
    "        x=y2.index, y=y2,\n",
    "        line=dict(color='red', width=2),\n",
    "        name=\"Deaths\"\n",
    "    ),\n",
    "    row=1, col=2\n",
    ")\n",
    "\n",
    "fig5.add_trace(\n",
    "    go.Scatter(\n",
    "        x=y3.index, y=y3,\n",
    "        line=dict(color='green', width=2),\n",
    "        name=\"Recovered\"\n",
    "    ),\n",
    "    row=1, col=3\n",
    ")\n",
    "\n",
    "fig5 = go.FigureWidget(fig5)\n",
    "fig5.update_layout(title_text=\"Cumulative Data on seperate graphs\", showlegend=False)\n",
    "\n",
    "for i in range(3):\n",
    "    fig5.update_xaxes(title_text=\"Time\", row=1, col=i+1)\n",
    "\n",
    "fig5.update_yaxes(title_text=\"Cases\", row=1, col=1)\n",
    "# fig5.update_yaxes(rangemode=\"nonnegative\")\n",
    "h = max([y1.max(), y2.max(), y3.max()])\n",
    "fig5.update_yaxes(range=[0, h])\n",
    "\n",
    "container4 = widgets.HBox([country_sel2, uniform_sel])\n",
    "cum_sep = widgets.VBox([container4,\n",
    "              date_sel2,\n",
    "              fig5])\n",
    "cum_sep"
   ]
  },
  {
   "cell_type": "code",
   "execution_count": 6,
   "metadata": {
    "extensions": {
     "jupyter_dashboards": {
      "version": 1,
      "views": {
       "grid_default": {},
       "report_default": {
        "hidden": false
       }
      }
     }
    }
   },
   "outputs": [
    {
     "data": {
      "application/vnd.jupyter.widget-view+json": {
       "model_id": "aa40a4bfdff24fe59390d4cb7992b8b1",
       "version_major": 2,
       "version_minor": 0
      },
      "text/plain": [
       "VBox(children=(HBox(children=(Dropdown(description='Country:', index=91, options=('Afghanistan', 'Albania', 'A…"
      ]
     },
     "metadata": {},
     "output_type": "display_data"
    }
   ],
   "source": [
    "def f(x):\n",
    "    dates = [dt.datetime.strptime(d,'%Y-%m-%d').date() for d in list(df_confirmed.columns[1:])]\n",
    "    st_val = dates.index(date_sel.value[0]) + 1\n",
    "    end_val = dates.index(date_sel.value[1]) + 2\n",
    "    \n",
    "    x = [dt.datetime.strptime(d,'%Y-%m-%d').date() for d in list(df_confirmed.columns[st_val:end_val])]    \n",
    "    y1 = df_confirmed[df_confirmed['Country'] == country_sel.value].iloc[0][st_val:end_val]\n",
    "    y1.index = pd.to_datetime(y1.index)\n",
    "    y2 = df_deaths[df_deaths['Country'] == country_sel.value].iloc[0][st_val:end_val]\n",
    "    y2.index = pd.to_datetime(y1.index)\n",
    "    y3 = df_recovered[df_recovered['Country'] == country_sel.value].iloc[0][st_val:end_val]\n",
    "    y3.index = pd.to_datetime(y1.index)\n",
    "\n",
    "    if confirmed_sel.value:\n",
    "        fig4.data[0].x = y1.index\n",
    "        fig4.data[0].y = y1\n",
    "    else:\n",
    "        fig4.data[0].x = None\n",
    "        fig4.data[0].y = None\n",
    "        \n",
    "    if death_sel.value:\n",
    "        fig4.data[1].x = y2.index\n",
    "        fig4.data[1].y = y2\n",
    "    else:\n",
    "        fig4.data[1].x = None\n",
    "        fig4.data[1].y = None\n",
    "        \n",
    "    if recover_sel.value:\n",
    "        fig4.data[2].x = y3.index\n",
    "        fig4.data[2].y = y3\n",
    "    else:\n",
    "        fig4.data[2].x = None\n",
    "        fig4.data[2].y = None\n",
    "\n",
    "    \n",
    "    \n",
    "country_sel = widgets.Dropdown(\n",
    "    options=list(df_confirmed['Country'].unique()),\n",
    "    description='Country:',\n",
    "    value='India',\n",
    "    disabled=False,\n",
    ")\n",
    "\n",
    "confirmed_sel = widgets.Checkbox(\n",
    "    value=True,\n",
    "    description='Confirmed',\n",
    "    disabled=False\n",
    ")\n",
    "\n",
    "death_sel = widgets.Checkbox(\n",
    "    value=True,\n",
    "    description='Death',\n",
    "    disabled=False\n",
    ")\n",
    "\n",
    "recover_sel = widgets.Checkbox(\n",
    "    value=True,\n",
    "    description='Recovered',\n",
    "    disabled=False\n",
    ")\n",
    "\n",
    "dates = [dt.datetime.strptime(d,'%Y-%m-%d').date() for d in list(df_confirmed.columns[1:])]\n",
    "dates_i = range(len(dates))\n",
    "options = [(i.strftime(' %d %b %y '), i) for i in dates]\n",
    "date_sel = widgets.SelectionRangeSlider(\n",
    "    options=options,\n",
    "    index=(0, len(dates)-1),\n",
    "    description='Months',\n",
    "    disabled=False,\n",
    "    continuous_update=False,\n",
    "    layout=Layout(width='70%', height='80px')\n",
    ")\n",
    "    \n",
    "country_sel.observe(f, names='value')\n",
    "confirmed_sel.observe(f, names='value')\n",
    "death_sel.observe(f, names='value')\n",
    "recover_sel.observe(f, names='value')\n",
    "date_sel.observe(f, names='value')\n",
    "\n",
    "\n",
    "x = [dt.datetime.strptime(d,'%Y-%m-%d').date() for d in list(df_confirmed.columns[1:])]\n",
    "    \n",
    "y1 = df_confirmed[df_confirmed['Country'] == 'India'].iloc[0][1:]\n",
    "y1.index = pd.to_datetime(y1.index)\n",
    "y2 = df_deaths[df_deaths['Country'] == 'India'].iloc[0][1:]\n",
    "y2.index = pd.to_datetime(y2.index)\n",
    "y3 = df_recovered[df_recovered['Country'] == 'India'].iloc[0][1:]\n",
    "y3.index = pd.to_datetime(y3.index)\n",
    "\n",
    "fig4 = go.FigureWidget(data=[\n",
    "    go.Scatter(\n",
    "        x=y1.index, y=y1,\n",
    "        line=dict(color='blue', width=2),\n",
    "        name=\"Confirmed\"\n",
    "    ),\n",
    "    go.Scatter(\n",
    "        x=y2.index, y=y2,\n",
    "        line=dict(color='red', width=2),\n",
    "        name=\"Deaths\"\n",
    "    ),\n",
    "    go.Scatter(\n",
    "        x=y3.index, y=y3,\n",
    "        line=dict(color='green', width=2),\n",
    "        name=\"Recovered\"\n",
    "    )\n",
    "])\n",
    "fig4.update_layout(\n",
    "    title='Cumulative data on single graph',\n",
    "    yaxis_title=\"Cases\",\n",
    "    xaxis_title=\"Time\",\n",
    "    legend=dict(x=.8, y=-.5),\n",
    "#     margin={\"r\":0,\"t\":30,\"l\":20,\"b\":20}\n",
    ")\n",
    "\n",
    "fig4.update_yaxes(rangemode=\"nonnegative\")\n",
    "\n",
    "\n",
    "\n",
    "container2 = widgets.HBox([country_sel, confirmed_sel, death_sel, recover_sel])\n",
    "cum_sin = widgets.VBox([container2,\n",
    "              date_sel,\n",
    "              fig4])\n",
    "cum_sin"
   ]
  },
  {
   "cell_type": "code",
   "execution_count": 7,
   "metadata": {
    "extensions": {
     "jupyter_dashboards": {
      "version": 1,
      "views": {
       "grid_default": {},
       "report_default": {
        "hidden": true
       }
      }
     }
    }
   },
   "outputs": [],
   "source": [
    "df_confirmed_n = df_confirmed.copy()\n",
    "\n",
    "for i in range(len(df_confirmed_n)):\n",
    "    for j in range(4, len(df_confirmed_n.loc[0])):\n",
    "        df_confirmed_n.iat[i, j] = df_confirmed_n.iat[i, j] - df_confirmed.iat[i, j-1]\n",
    "    \n",
    "# df_confirmed_n.head()"
   ]
  },
  {
   "cell_type": "code",
   "execution_count": 13,
   "metadata": {
    "extensions": {
     "jupyter_dashboards": {
      "version": 1,
      "views": {
       "grid_default": {},
       "report_default": {
        "hidden": true
       }
      }
     }
    }
   },
   "outputs": [
    {
     "data": {
      "text/html": [
       "<div>\n",
       "<style scoped>\n",
       "    .dataframe tbody tr th:only-of-type {\n",
       "        vertical-align: middle;\n",
       "    }\n",
       "\n",
       "    .dataframe tbody tr th {\n",
       "        vertical-align: top;\n",
       "    }\n",
       "\n",
       "    .dataframe thead th {\n",
       "        text-align: right;\n",
       "    }\n",
       "</style>\n",
       "<table border=\"1\" class=\"dataframe\">\n",
       "  <thead>\n",
       "    <tr style=\"text-align: right;\">\n",
       "      <th></th>\n",
       "      <th>Country</th>\n",
       "      <th>2020-01-22</th>\n",
       "      <th>2020-01-23</th>\n",
       "      <th>2020-01-24</th>\n",
       "      <th>2020-01-25</th>\n",
       "      <th>2020-01-26</th>\n",
       "      <th>2020-01-27</th>\n",
       "      <th>2020-01-28</th>\n",
       "      <th>2020-01-29</th>\n",
       "      <th>2020-01-30</th>\n",
       "      <th>...</th>\n",
       "      <th>2020-05-05</th>\n",
       "      <th>2020-05-06</th>\n",
       "      <th>2020-05-07</th>\n",
       "      <th>2020-05-08</th>\n",
       "      <th>2020-05-09</th>\n",
       "      <th>2020-05-10</th>\n",
       "      <th>2020-05-11</th>\n",
       "      <th>2020-05-12</th>\n",
       "      <th>2020-05-13</th>\n",
       "      <th>2020-05-14</th>\n",
       "    </tr>\n",
       "  </thead>\n",
       "  <tbody>\n",
       "    <tr>\n",
       "      <td>0</td>\n",
       "      <td>Afghanistan</td>\n",
       "      <td>0</td>\n",
       "      <td>0</td>\n",
       "      <td>0</td>\n",
       "      <td>0</td>\n",
       "      <td>0</td>\n",
       "      <td>0</td>\n",
       "      <td>0</td>\n",
       "      <td>0</td>\n",
       "      <td>0</td>\n",
       "      <td>...</td>\n",
       "      <td>5</td>\n",
       "      <td>9</td>\n",
       "      <td>2</td>\n",
       "      <td>3</td>\n",
       "      <td>6</td>\n",
       "      <td>5</td>\n",
       "      <td>2</td>\n",
       "      <td>5</td>\n",
       "      <td>5</td>\n",
       "      <td>4</td>\n",
       "    </tr>\n",
       "    <tr>\n",
       "      <td>1</td>\n",
       "      <td>Albania</td>\n",
       "      <td>0</td>\n",
       "      <td>0</td>\n",
       "      <td>0</td>\n",
       "      <td>0</td>\n",
       "      <td>0</td>\n",
       "      <td>0</td>\n",
       "      <td>0</td>\n",
       "      <td>0</td>\n",
       "      <td>0</td>\n",
       "      <td>...</td>\n",
       "      <td>0</td>\n",
       "      <td>0</td>\n",
       "      <td>0</td>\n",
       "      <td>0</td>\n",
       "      <td>0</td>\n",
       "      <td>0</td>\n",
       "      <td>0</td>\n",
       "      <td>0</td>\n",
       "      <td>0</td>\n",
       "      <td>0</td>\n",
       "    </tr>\n",
       "    <tr>\n",
       "      <td>2</td>\n",
       "      <td>Algeria</td>\n",
       "      <td>0</td>\n",
       "      <td>0</td>\n",
       "      <td>0</td>\n",
       "      <td>0</td>\n",
       "      <td>0</td>\n",
       "      <td>0</td>\n",
       "      <td>0</td>\n",
       "      <td>0</td>\n",
       "      <td>0</td>\n",
       "      <td>...</td>\n",
       "      <td>5</td>\n",
       "      <td>6</td>\n",
       "      <td>7</td>\n",
       "      <td>5</td>\n",
       "      <td>6</td>\n",
       "      <td>8</td>\n",
       "      <td>5</td>\n",
       "      <td>8</td>\n",
       "      <td>7</td>\n",
       "      <td>7</td>\n",
       "    </tr>\n",
       "    <tr>\n",
       "      <td>3</td>\n",
       "      <td>Andorra</td>\n",
       "      <td>0</td>\n",
       "      <td>0</td>\n",
       "      <td>0</td>\n",
       "      <td>0</td>\n",
       "      <td>0</td>\n",
       "      <td>0</td>\n",
       "      <td>0</td>\n",
       "      <td>0</td>\n",
       "      <td>0</td>\n",
       "      <td>...</td>\n",
       "      <td>1</td>\n",
       "      <td>0</td>\n",
       "      <td>1</td>\n",
       "      <td>0</td>\n",
       "      <td>1</td>\n",
       "      <td>0</td>\n",
       "      <td>0</td>\n",
       "      <td>0</td>\n",
       "      <td>1</td>\n",
       "      <td>0</td>\n",
       "    </tr>\n",
       "    <tr>\n",
       "      <td>4</td>\n",
       "      <td>Angola</td>\n",
       "      <td>0</td>\n",
       "      <td>0</td>\n",
       "      <td>0</td>\n",
       "      <td>0</td>\n",
       "      <td>0</td>\n",
       "      <td>0</td>\n",
       "      <td>0</td>\n",
       "      <td>0</td>\n",
       "      <td>0</td>\n",
       "      <td>...</td>\n",
       "      <td>0</td>\n",
       "      <td>0</td>\n",
       "      <td>0</td>\n",
       "      <td>0</td>\n",
       "      <td>0</td>\n",
       "      <td>0</td>\n",
       "      <td>0</td>\n",
       "      <td>0</td>\n",
       "      <td>0</td>\n",
       "      <td>0</td>\n",
       "    </tr>\n",
       "  </tbody>\n",
       "</table>\n",
       "<p>5 rows × 115 columns</p>\n",
       "</div>"
      ],
      "text/plain": [
       "       Country  2020-01-22  2020-01-23  2020-01-24  2020-01-25  2020-01-26  \\\n",
       "0  Afghanistan           0           0           0           0           0   \n",
       "1      Albania           0           0           0           0           0   \n",
       "2      Algeria           0           0           0           0           0   \n",
       "3      Andorra           0           0           0           0           0   \n",
       "4       Angola           0           0           0           0           0   \n",
       "\n",
       "   2020-01-27  2020-01-28  2020-01-29  2020-01-30  ...  2020-05-05  \\\n",
       "0           0           0           0           0  ...           5   \n",
       "1           0           0           0           0  ...           0   \n",
       "2           0           0           0           0  ...           5   \n",
       "3           0           0           0           0  ...           1   \n",
       "4           0           0           0           0  ...           0   \n",
       "\n",
       "   2020-05-06  2020-05-07  2020-05-08  2020-05-09  2020-05-10  2020-05-11  \\\n",
       "0           9           2           3           6           5           2   \n",
       "1           0           0           0           0           0           0   \n",
       "2           6           7           5           6           8           5   \n",
       "3           0           1           0           1           0           0   \n",
       "4           0           0           0           0           0           0   \n",
       "\n",
       "   2020-05-12  2020-05-13  2020-05-14  \n",
       "0           5           5           4  \n",
       "1           0           0           0  \n",
       "2           8           7           7  \n",
       "3           0           1           0  \n",
       "4           0           0           0  \n",
       "\n",
       "[5 rows x 115 columns]"
      ]
     },
     "execution_count": 13,
     "metadata": {},
     "output_type": "execute_result"
    }
   ],
   "source": [
    "df_deaths_n = df_deaths.copy()\n",
    "\n",
    "for i in range(len(df_confirmed_n)):\n",
    "    for j in range(4, len(df_confirmed_n.loc[0])):\n",
    "        df_deaths_n.iat[i, j] = df_deaths_n.iat[i, j] - df_deaths.iat[i, j-1]\n",
    "    \n",
    "# df_deaths_n.head()"
   ]
  },
  {
   "cell_type": "code",
   "execution_count": 14,
   "metadata": {
    "extensions": {
     "jupyter_dashboards": {
      "version": 1,
      "views": {
       "grid_default": {},
       "report_default": {
        "hidden": true
       }
      }
     }
    }
   },
   "outputs": [],
   "source": [
    "df_recovered_n = df_recovered.copy()\n",
    "\n",
    "for i in range(len(df_confirmed_n)):\n",
    "    for j in range(4, len(df_confirmed_n.loc[0])):\n",
    "        df_recovered_n.iat[i, j] = df_recovered_n.iat[i, j] - df_recovered.iat[i, j-1]\n",
    "    \n",
    "# df_recovered_n.head()"
   ]
  },
  {
   "cell_type": "code",
   "execution_count": 15,
   "metadata": {
    "extensions": {
     "jupyter_dashboards": {
      "version": 1,
      "views": {
       "grid_default": {},
       "report_default": {
        "hidden": false
       }
      }
     }
    }
   },
   "outputs": [
    {
     "data": {
      "application/vnd.jupyter.widget-view+json": {
       "model_id": "93f8f1d9b13c4060814c2bb80aaebec9",
       "version_major": 2,
       "version_minor": 0
      },
      "text/plain": [
       "VBox(children=(HBox(children=(Dropdown(description='Country:', index=91, options=('Afghanistan', 'Albania', 'A…"
      ]
     },
     "metadata": {},
     "output_type": "display_data"
    }
   ],
   "source": [
    "def f3(x):\n",
    "    dates = [dt.datetime.strptime(d,'%Y-%m-%d').date() for d in list(df_confirmed_n.columns[1:])]\n",
    "    st_val = dates.index(date_sel3.value[0]) + 1\n",
    "    end_val = dates.index(date_sel3.value[1]) + 2\n",
    "    \n",
    "    x = [dt.datetime.strptime(d,'%Y-%m-%d').date() for d in list(df_confirmed_n.columns[st_val:end_val])]    \n",
    "    y1 = df_confirmed_n[df_confirmed_n['Country'] == country_sel3.value].iloc[0][st_val:end_val]\n",
    "    y1.index = pd.to_datetime(y1.index)\n",
    "    y2 = df_deaths_n[df_deaths_n['Country'] == country_sel3.value].iloc[0][st_val:end_val]\n",
    "    y2.index = pd.to_datetime(y1.index)\n",
    "    y3 = df_recovered_n[df_recovered_n['Country'] == country_sel3.value].iloc[0][st_val:end_val]\n",
    "    y3.index = pd.to_datetime(y1.index)\n",
    "    \n",
    "    fig6.data[0].x = y1.index\n",
    "    fig6.data[0].y = y1\n",
    "\n",
    "    fig6.data[1].x = y2.index\n",
    "    fig6.data[1].y = y2\n",
    "\n",
    "    fig6.data[2].x = y3.index\n",
    "    fig6.data[2].y = y3\n",
    "\n",
    "    \n",
    "    \n",
    "country_sel3 = widgets.Dropdown(\n",
    "    options=list(df_confirmed['Country'].unique()),\n",
    "    description='Country:',\n",
    "    value='India',\n",
    "    disabled=False,\n",
    ")\n",
    "\n",
    "dates = [dt.datetime.strptime(d,'%Y-%m-%d').date() for d in list(df_confirmed.columns[3:])]\n",
    "dates_i = range(len(dates))\n",
    "options = [(i.strftime(' %d %b %y '), i) for i in dates]\n",
    "date_sel3 = widgets.SelectionRangeSlider(\n",
    "    options=options,\n",
    "    index=(0, len(dates)-1),\n",
    "    description='Months',\n",
    "    disabled=False,\n",
    "    continuous_update=False,\n",
    "    layout=Layout(width='70%', height='80px')\n",
    ")\n",
    "    \n",
    "country_sel3.observe(f3, names='value')\n",
    "date_sel3.observe(f3, names='value')\n",
    "\n",
    "\n",
    "x = [dt.datetime.strptime(d,'%Y-%m-%d').date() for d in list(df_confirmed.columns[3:])]\n",
    "    \n",
    "y1 = df_confirmed_n[df_confirmed['Country'] == 'India'].iloc[0][3:]\n",
    "y1.index = pd.to_datetime(y1.index)\n",
    "y2 = df_deaths_n[df_deaths['Country'] == 'India'].iloc[0][3:]\n",
    "y2.index = pd.to_datetime(y2.index)\n",
    "y3 = df_recovered_n[df_recovered['Country'] == 'India'].iloc[0][3:]\n",
    "y3.index = pd.to_datetime(y3.index)\n",
    "\n",
    "fig6 = make_subplots(rows=1, cols=3, subplot_titles=(\"Confirmed\", \"Deaths\", \"Recovered\"))\n",
    "\n",
    "fig6.add_trace(\n",
    "    go.Scatter(\n",
    "        x=y1.index, y=y1,\n",
    "        line=dict(color='blue', width=2),\n",
    "        name=\"Confirmed\"\n",
    "    ),\n",
    "    row=1, col=1\n",
    ")\n",
    "\n",
    "fig6.add_trace(\n",
    "    go.Scatter(\n",
    "        x=y2.index, y=y2,\n",
    "        line=dict(color='red', width=2),\n",
    "        name=\"Deaths\"\n",
    "    ),\n",
    "    row=1, col=2\n",
    ")\n",
    "\n",
    "fig6.add_trace(\n",
    "    go.Scatter(\n",
    "        x=y3.index, y=y3,\n",
    "        line=dict(color='green', width=2),\n",
    "        name=\"Recovered\"\n",
    "    ),\n",
    "    row=1, col=3\n",
    ")\n",
    "\n",
    "fig6 = go.FigureWidget(fig6)\n",
    "fig6.update_layout(title_text=\"Daily data on seperate graphs\", showlegend=False)\n",
    "\n",
    "for i in range(3):\n",
    "    fig6.update_xaxes(title_text=\"Time\", row=1, col=i+1)\n",
    "\n",
    "fig6.update_yaxes(title_text=\"Cases\", row=1, col=1)\n",
    "fig6.update_yaxes(rangemode=\"nonnegative\")\n",
    "\n",
    "\n",
    "container5 = widgets.HBox([country_sel3])\n",
    "dai_sep = widgets.VBox([container5,\n",
    "              date_sel3,\n",
    "              fig6])\n",
    "dai_sep"
   ]
  },
  {
   "cell_type": "markdown",
   "metadata": {},
   "source": [
    "## Map Plots"
   ]
  },
  {
   "cell_type": "code",
   "execution_count": 11,
   "metadata": {},
   "outputs": [
    {
     "data": {
      "application/vnd.jupyter.widget-view+json": {
       "model_id": "da1dc267f52447fabcd7cdd7889b5386",
       "version_major": 2,
       "version_minor": 0
      },
      "text/plain": [
       "VBox(children=(Dropdown(description='Select Plot:', options=('Total Confirmed', 'Deadth-to-Confrimed Ratio', '…"
      ]
     },
     "metadata": {},
     "output_type": "display_data"
    }
   ],
   "source": [
    "def f4(x):\n",
    "    if map_sel.value == 'Total Confirmed':\n",
    "        map_fig['data'][0].z = df_confirmed.iloc[:, -1]\n",
    "        map_fig['data'][0].colorscale = \"Blues\"\n",
    "        \n",
    "    elif map_sel.value == 'Deadth-to-Confrimed Ratio':\n",
    "        map_fig['data'][0].z = df_deaths.iloc[:, -1]/df_confirmed.iloc[:, -1]\n",
    "        map_fig['data'][0].colorscale = \"Reds\"\n",
    "        \n",
    "    elif map_sel.value == 'Recovered-to-Confrimed Ratio':\n",
    "        map_fig['data'][0].z = df_recovered.iloc[:, -1]/df_confirmed.iloc[:, -1]\n",
    "        map_fig['data'][0].colorscale = \"Greens\"\n",
    "\n",
    "    map_fig.update_layout(title_text = map_sel.value, margin={\"r\":0,\"t\":40,\"l\":0,\"b\":0}, height=500)\n",
    "\n",
    "    \n",
    "    \n",
    "    \n",
    "map_sel = widgets.Dropdown(\n",
    "    options=['Total Confirmed', 'Deadth-to-Confrimed Ratio', 'Recovered-to-Confrimed Ratio'],\n",
    "    description='Select Plot:',\n",
    "    value='Total Confirmed',\n",
    "    disabled=False,\n",
    ")\n",
    "map_sel.observe(f4, names='value')\n",
    "\n",
    "map_fig = go.Figure(go.Choropleth(locationmode = 'country names',\n",
    "                                        locations=list(df_confirmed['Country']),\n",
    "                                        z=df_confirmed.iloc[:, -1],\n",
    "                                        colorscale=\"Blues\",\n",
    "                                        name='Confirmed'\n",
    "                                    ))\n",
    "map_fig = go.FigureWidget(map_fig)\n",
    "map_fig.update_layout(title_text = 'Total Confirmed', margin={\"r\":0,\"t\":40,\"l\":0,\"b\":0}, height=500)\n",
    "\n",
    "maps_w = widgets.VBox([map_sel,\n",
    "                       map_fig])\n",
    "maps_w"
   ]
  },
  {
   "cell_type": "code",
   "execution_count": null,
   "metadata": {},
   "outputs": [],
   "source": []
  }
 ],
 "metadata": {
  "extensions": {
   "jupyter_dashboards": {
    "activeView": "grid_default",
    "version": 1,
    "views": {
     "grid_default": {
      "cellMargin": 10,
      "defaultCellHeight": 20,
      "maxColumns": 12,
      "name": "grid",
      "type": "grid"
     },
     "report_default": {
      "name": "report",
      "type": "report"
     }
    }
   }
  },
  "kernelspec": {
   "display_name": "Python 3",
   "language": "python",
   "name": "python3"
  },
  "language_info": {
   "codemirror_mode": {
    "name": "ipython",
    "version": 3
   },
   "file_extension": ".py",
   "mimetype": "text/x-python",
   "name": "python",
   "nbconvert_exporter": "python",
   "pygments_lexer": "ipython3",
   "version": "3.7.4"
  }
 },
 "nbformat": 4,
 "nbformat_minor": 2
}
